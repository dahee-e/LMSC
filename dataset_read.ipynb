{
 "cells": [
  {
   "cell_type": "code",
   "execution_count": 1,
   "metadata": {
    "collapsed": true,
    "ExecuteTime": {
     "end_time": "2024-07-19T02:46:10.643294Z",
     "start_time": "2024-07-19T02:46:09.279401Z"
    }
   },
   "outputs": [
    {
     "name": "stdout",
     "output_type": "stream",
     "text": [
      "Requirement already satisfied: pandas in /Users/dahee/anaconda3/envs/LMSC/lib/python3.8/site-packages (2.0.3)\r\n",
      "Requirement already satisfied: python-dateutil>=2.8.2 in /Users/dahee/anaconda3/envs/LMSC/lib/python3.8/site-packages (from pandas) (2.8.2)\r\n",
      "Requirement already satisfied: pytz>=2020.1 in /Users/dahee/anaconda3/envs/LMSC/lib/python3.8/site-packages (from pandas) (2024.1)\r\n",
      "Requirement already satisfied: tzdata>=2022.1 in /Users/dahee/anaconda3/envs/LMSC/lib/python3.8/site-packages (from pandas) (2024.1)\r\n",
      "Requirement already satisfied: numpy>=1.20.3 in /Users/dahee/anaconda3/envs/LMSC/lib/python3.8/site-packages (from pandas) (1.24.3)\r\n",
      "Requirement already satisfied: six>=1.5 in /Users/dahee/anaconda3/envs/LMSC/lib/python3.8/site-packages (from python-dateutil>=2.8.2->pandas) (1.16.0)\r\n"
     ]
    }
   ],
   "source": [
    "!pip install pandas"
   ]
  },
  {
   "cell_type": "code",
   "execution_count": 5,
   "outputs": [],
   "source": [
    "import networkx as nx"
   ],
   "metadata": {
    "collapsed": false,
    "ExecuteTime": {
     "end_time": "2024-07-19T02:49:56.540836Z",
     "start_time": "2024-07-19T02:49:56.539426Z"
    }
   }
  },
  {
   "cell_type": "code",
   "execution_count": 13,
   "outputs": [
    {
     "name": "stdout",
     "output_type": "stream",
     "text": [
      "True\n"
     ]
    }
   ],
   "source": [
    "file_path = \"./dataset/orkut\"\n",
    "G = nx.read_edgelist(file_path+\"/network.dat\")\n",
    "conncected = nx.is_connected(G)\n",
    "print(conncected)"
   ],
   "metadata": {
    "collapsed": false,
    "ExecuteTime": {
     "end_time": "2024-07-19T03:34:01.558017Z",
     "start_time": "2024-07-19T03:06:43.383251Z"
    }
   }
  },
  {
   "cell_type": "code",
   "execution_count": null,
   "outputs": [],
   "source": [],
   "metadata": {
    "collapsed": false
   }
  }
 ],
 "metadata": {
  "kernelspec": {
   "display_name": "Python 3",
   "language": "python",
   "name": "python3"
  },
  "language_info": {
   "codemirror_mode": {
    "name": "ipython",
    "version": 2
   },
   "file_extension": ".py",
   "mimetype": "text/x-python",
   "name": "python",
   "nbconvert_exporter": "python",
   "pygments_lexer": "ipython2",
   "version": "2.7.6"
  }
 },
 "nbformat": 4,
 "nbformat_minor": 0
}
